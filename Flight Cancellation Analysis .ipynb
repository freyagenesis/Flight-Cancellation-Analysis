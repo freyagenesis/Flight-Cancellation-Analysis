{
 "cells": [
  {
   "cell_type": "markdown",
   "metadata": {},
   "source": [
    "## Flight Cancellation\n",
    "\n"
   ]
  },
  {
   "cell_type": "code",
   "execution_count": 1,
   "metadata": {},
   "outputs": [],
   "source": [
    "import os\n",
    "import numpy as np\n",
    "import pandas as pd\n",
    "import seaborn as sns\n",
    "import matplotlib.pyplot as plt\n",
    "from sklearn.model_selection import train_test_split\n",
    "from scipy.stats import chi2_contingency\n",
    "from scipy.stats import chi2\n",
    "from scipy import stats\n",
    "from sklearn.preprocessing import MinMaxScaler\n",
    "import calendar\n",
    "import datetime\n",
    "from scipy.stats import pearsonr \n",
    "import numpy\n",
    "from sklearn.model_selection import GridSearchCV\n",
    "from sklearn.metrics import confusion_matrix as cm\n",
    "from sklearn.metrics import accuracy_score\n",
    "from sklearn.metrics import recall_score\n",
    "from sklearn.model_selection import RandomizedSearchCV\n",
    "from sklearn.ensemble import RandomForestClassifier"
   ]
  },
  {
   "cell_type": "markdown",
   "metadata": {},
   "source": [
    "## Loading the dataset"
   ]
  },
  {
   "cell_type": "code",
   "execution_count": 2,
   "metadata": {},
   "outputs": [],
   "source": [
    "os.chdir(\"D:/Digitas/\")\n",
    "df = pd.read_csv('FlightDelays_Data_3.0.csv')"
   ]
  },
  {
   "cell_type": "markdown",
   "metadata": {},
   "source": [
    "## Data Pre-processing\n",
    "\n",
    "1. Null Value treatment\n",
    "2. Checking for erroneous data (if any)"
   ]
  },
  {
   "cell_type": "markdown",
   "metadata": {},
   "source": [
    "### Null Value treatment"
   ]
  },
  {
   "cell_type": "markdown",
   "metadata": {},
   "source": [
    "#### Total Number of Records"
   ]
  },
  {
   "cell_type": "code",
   "execution_count": 3,
   "metadata": {},
   "outputs": [
    {
     "data": {
      "text/plain": [
       "6000"
      ]
     },
     "execution_count": 3,
     "metadata": {},
     "output_type": "execute_result"
    }
   ],
   "source": [
    "len(df)"
   ]
  },
  {
   "cell_type": "markdown",
   "metadata": {},
   "source": [
    "#### Checking data types and null types"
   ]
  },
  {
   "cell_type": "code",
   "execution_count": 4,
   "metadata": {},
   "outputs": [
    {
     "name": "stdout",
     "output_type": "stream",
     "text": [
      "<class 'pandas.core.frame.DataFrame'>\n",
      "RangeIndex: 6000 entries, 0 to 5999\n",
      "Data columns (total 8 columns):\n",
      "Canceled            5999 non-null float64\n",
      "Month               6000 non-null int64\n",
      "DepartureTime       6000 non-null int64\n",
      "UniqueCarrier       6000 non-null object\n",
      "SchedElapsedTime    5998 non-null float64\n",
      "ArrDelay            5999 non-null float64\n",
      "DepDelay            6000 non-null int64\n",
      "Distance            5999 non-null float64\n",
      "dtypes: float64(4), int64(3), object(1)\n",
      "memory usage: 375.1+ KB\n"
     ]
    }
   ],
   "source": [
    "df.info()"
   ]
  },
  {
   "cell_type": "raw",
   "metadata": {},
   "source": [
    "The target variable seems to have one null value. There are 3 other variables having a couple of null values.\n",
    "Since we would like to not have any null value in the target, we need to treat it. We have just one null value in the target which is negligible compared to the total number of observations in the data.\n",
    "Also, for the predictors with null values we can impute it with the mean value of the column"
   ]
  },
  {
   "cell_type": "markdown",
   "metadata": {},
   "source": [
    "#### Making a copy of the data for all the further operations"
   ]
  },
  {
   "cell_type": "code",
   "execution_count": 5,
   "metadata": {},
   "outputs": [],
   "source": [
    "df_new = df.copy()"
   ]
  },
  {
   "cell_type": "markdown",
   "metadata": {},
   "source": [
    "#### Null value treatment : Data imputation with the mean values of its respective columns "
   ]
  },
  {
   "cell_type": "code",
   "execution_count": 6,
   "metadata": {},
   "outputs": [],
   "source": [
    "# Data imputation with the mean value\n",
    "\n",
    "df_new['SchedElapsedTime'].fillna(df_new['SchedElapsedTime'].mean(), inplace = True)\n",
    "df_new['ArrDelay'].fillna(df_new['ArrDelay'].mean(), inplace = True)\n",
    "df_new['Distance'].fillna(df_new['Distance'].mean(), inplace = True)"
   ]
  },
  {
   "cell_type": "markdown",
   "metadata": {},
   "source": [
    "#### Null value treatment : Removing null values in the target variable "
   ]
  },
  {
   "cell_type": "code",
   "execution_count": 7,
   "metadata": {},
   "outputs": [
    {
     "name": "stdout",
     "output_type": "stream",
     "text": [
      "<class 'pandas.core.frame.DataFrame'>\n",
      "Int64Index: 5999 entries, 0 to 5999\n",
      "Data columns (total 8 columns):\n",
      "Canceled            5999 non-null float64\n",
      "Month               5999 non-null int64\n",
      "DepartureTime       5999 non-null int64\n",
      "UniqueCarrier       5999 non-null object\n",
      "SchedElapsedTime    5999 non-null float64\n",
      "ArrDelay            5999 non-null float64\n",
      "DepDelay            5999 non-null int64\n",
      "Distance            5999 non-null float64\n",
      "dtypes: float64(4), int64(3), object(1)\n",
      "memory usage: 421.8+ KB\n"
     ]
    }
   ],
   "source": [
    "df_new = df_new.dropna(how='any',axis=0) \n",
    "df_new.info()"
   ]
  },
  {
   "cell_type": "raw",
   "metadata": {},
   "source": [
    "After the null value treatments we are left with 5999 rows with no null values"
   ]
  },
  {
   "cell_type": "markdown",
   "metadata": {},
   "source": [
    "### Check for erroneous data"
   ]
  },
  {
   "cell_type": "markdown",
   "metadata": {},
   "source": [
    "##### Checking the correctness of data"
   ]
  },
  {
   "cell_type": "code",
   "execution_count": 8,
   "metadata": {},
   "outputs": [
    {
     "data": {
      "text/html": [
       "<div>\n",
       "<style scoped>\n",
       "    .dataframe tbody tr th:only-of-type {\n",
       "        vertical-align: middle;\n",
       "    }\n",
       "\n",
       "    .dataframe tbody tr th {\n",
       "        vertical-align: top;\n",
       "    }\n",
       "\n",
       "    .dataframe thead th {\n",
       "        text-align: right;\n",
       "    }\n",
       "</style>\n",
       "<table border=\"1\" class=\"dataframe\">\n",
       "  <thead>\n",
       "    <tr style=\"text-align: right;\">\n",
       "      <th></th>\n",
       "      <th>Canceled</th>\n",
       "      <th>Month</th>\n",
       "      <th>DepartureTime</th>\n",
       "      <th>UniqueCarrier</th>\n",
       "      <th>SchedElapsedTime</th>\n",
       "      <th>ArrDelay</th>\n",
       "      <th>DepDelay</th>\n",
       "      <th>Distance</th>\n",
       "    </tr>\n",
       "  </thead>\n",
       "  <tbody>\n",
       "    <tr>\n",
       "      <th>134</th>\n",
       "      <td>1.0</td>\n",
       "      <td>3</td>\n",
       "      <td>515</td>\n",
       "      <td>DL</td>\n",
       "      <td>105.0</td>\n",
       "      <td>0.0</td>\n",
       "      <td>0</td>\n",
       "      <td>-439.0</td>\n",
       "    </tr>\n",
       "  </tbody>\n",
       "</table>\n",
       "</div>"
      ],
      "text/plain": [
       "     Canceled  Month  DepartureTime UniqueCarrier  SchedElapsedTime  ArrDelay  \\\n",
       "134       1.0      3            515            DL             105.0       0.0   \n",
       "\n",
       "     DepDelay  Distance  \n",
       "134         0    -439.0  "
      ]
     },
     "execution_count": 8,
     "metadata": {},
     "output_type": "execute_result"
    }
   ],
   "source": [
    "df_new[df_new['Distance'] < 0]"
   ]
  },
  {
   "cell_type": "code",
   "execution_count": 9,
   "metadata": {},
   "outputs": [
    {
     "data": {
      "text/html": [
       "<div>\n",
       "<style scoped>\n",
       "    .dataframe tbody tr th:only-of-type {\n",
       "        vertical-align: middle;\n",
       "    }\n",
       "\n",
       "    .dataframe tbody tr th {\n",
       "        vertical-align: top;\n",
       "    }\n",
       "\n",
       "    .dataframe thead th {\n",
       "        text-align: right;\n",
       "    }\n",
       "</style>\n",
       "<table border=\"1\" class=\"dataframe\">\n",
       "  <thead>\n",
       "    <tr style=\"text-align: right;\">\n",
       "      <th></th>\n",
       "      <th>Canceled</th>\n",
       "      <th>Month</th>\n",
       "      <th>DepartureTime</th>\n",
       "      <th>UniqueCarrier</th>\n",
       "      <th>SchedElapsedTime</th>\n",
       "      <th>ArrDelay</th>\n",
       "      <th>DepDelay</th>\n",
       "      <th>Distance</th>\n",
       "    </tr>\n",
       "  </thead>\n",
       "  <tbody>\n",
       "    <tr>\n",
       "      <th>67</th>\n",
       "      <td>1.0</td>\n",
       "      <td>5</td>\n",
       "      <td>1540</td>\n",
       "      <td>UA</td>\n",
       "      <td>-127.0</td>\n",
       "      <td>0.0</td>\n",
       "      <td>0</td>\n",
       "      <td>612.0</td>\n",
       "    </tr>\n",
       "  </tbody>\n",
       "</table>\n",
       "</div>"
      ],
      "text/plain": [
       "    Canceled  Month  DepartureTime UniqueCarrier  SchedElapsedTime  ArrDelay  \\\n",
       "67       1.0      5           1540            UA            -127.0       0.0   \n",
       "\n",
       "    DepDelay  Distance  \n",
       "67         0     612.0  "
      ]
     },
     "execution_count": 9,
     "metadata": {},
     "output_type": "execute_result"
    }
   ],
   "source": [
    "df_new[df_new['SchedElapsedTime'] < 0]"
   ]
  },
  {
   "cell_type": "raw",
   "metadata": {},
   "source": [
    "Since distance and time can't take negative values we should exclude these rows from the data"
   ]
  },
  {
   "cell_type": "code",
   "execution_count": 10,
   "metadata": {},
   "outputs": [],
   "source": [
    "outlier_dist_idx = df_new[df_new['Distance'] < 0].index[0]\n",
    "outlier_schElap_idx = df_new[df_new['SchedElapsedTime'] < 0].index[0]\n",
    "\n",
    "df_new = df_new.drop([outlier_dist_idx], axis = 0)\n",
    "df_new = df_new.drop([outlier_schElap_idx], axis = 0)"
   ]
  },
  {
   "cell_type": "code",
   "execution_count": 11,
   "metadata": {
    "scrolled": false
   },
   "outputs": [
    {
     "data": {
      "text/plain": [
       "<matplotlib.axes._subplots.AxesSubplot at 0x28905a765c0>"
      ]
     },
     "execution_count": 11,
     "metadata": {},
     "output_type": "execute_result"
    },
    {
     "data": {
      "image/png": "[encoded data removed]",
      "text/plain": [
       "<Figure size 1440x1080 with 4 Axes>"
      ]
     },
     "metadata": {
      "needs_background": "light"
     },
     "output_type": "display_data"
    }
   ],
   "source": [
    "f, axes = plt.subplots(2,2,figsize=(20,15))\n",
    "i = 0\n",
    "\n",
    "sns.boxplot(y = 'SchedElapsedTime', data=df_new, orient=\"v\", ax = axes[0][0])\n",
    "sns.boxplot(y = 'ArrDelay', data=df_new, orient=\"v\", ax = axes[0][1])\n",
    "sns.boxplot(y = 'DepDelay', data=df_new, orient=\"v\", ax = axes[1][0])\n",
    "sns.boxplot(y = 'Distance', data=df_new, orient=\"v\", ax = axes[1][1])\n"
   ]
  },
  {
   "cell_type": "markdown",
   "metadata": {},
   "source": [
    "None of the outliuer values look like an anamoly. Hence I am keeping them for time being"
   ]
  },
  {
   "cell_type": "markdown",
   "metadata": {},
   "source": [
    "#### Converting the column into a categorical variable with 1's and 0's"
   ]
  },
  {
   "cell_type": "code",
   "execution_count": 12,
   "metadata": {},
   "outputs": [
    {
     "data": {
      "text/plain": [
       "Canceled            category\n",
       "Month                  int64\n",
       "DepartureTime          int64\n",
       "UniqueCarrier         object\n",
       "SchedElapsedTime     float64\n",
       "ArrDelay             float64\n",
       "DepDelay               int64\n",
       "Distance             float64\n",
       "dtype: object"
      ]
     },
     "execution_count": 12,
     "metadata": {},
     "output_type": "execute_result"
    }
   ],
   "source": [
    "# Convert target variable into int\n",
    "df_new['Canceled'] = df_new['Canceled'].astype('int32')\n",
    "df_new['Canceled'] = pd.Categorical(df_new['Canceled'])\n",
    "\n",
    "df_new.dtypes"
   ]
  },
  {
   "cell_type": "markdown",
   "metadata": {},
   "source": [
    "### Exploratory Data Analysis"
   ]
  },
  {
   "cell_type": "markdown",
   "metadata": {},
   "source": [
    "#### Checking the distribution of Target variable"
   ]
  },
  {
   "cell_type": "code",
   "execution_count": 13,
   "metadata": {},
   "outputs": [
    {
     "data": {
      "image/png": "[encoded data removed]",
      "text/plain": [
       "<Figure size 432x288 with 1 Axes>"
      ]
     },
     "metadata": {
      "needs_background": "light"
     },
     "output_type": "display_data"
    }
   ],
   "source": [
    "ax = sns.countplot(x=\"Canceled\", data=df_new)"
   ]
  },
  {
   "cell_type": "markdown",
   "metadata": {},
   "source": [
    "We can see that the target variable is not balanced. There are more occurances of cancellation."
   ]
  },
  {
   "cell_type": "markdown",
   "metadata": {},
   "source": [
    "We should now analyze all the predictors individually to see their distribution\n",
    "Also we should do a bivariate analysis between the predictors and the target. Since some of them are categorical and some are numerical, we need to have a test crieteria. I will be using chi-square statistic for categorical and Anova for numericaol variables to see if the variable is dependent on the target or not"
   ]
  },
  {
   "cell_type": "markdown",
   "metadata": {},
   "source": [
    "##### Defining function for CHI SQUARE statistic"
   ]
  },
  {
   "cell_type": "code",
   "execution_count": 14,
   "metadata": {},
   "outputs": [],
   "source": [
    "# contingency table\n",
    "def chi_sq(data,a,b):\n",
    "    df = pd.crosstab(data[a], data[b])\n",
    "    contingency_input = df.as_matrix()\n",
    "\n",
    "    stat, p, dof, expected = chi2_contingency(contingency_input)\n",
    "\n",
    "    # interpret test-statistic\n",
    "    prob = 0.95\n",
    "    critical = chi2.ppf(prob, dof)\n",
    "    print('probability=%.3f, critical=%.3f, stat=%.3f' % (prob, critical, stat))\n",
    "    if abs(stat) >= critical:\n",
    "        print('Dependent (reject H0)')\n",
    "    else:\n",
    "        print('Independent (fail to reject H0)')\n",
    "    \n",
    "    # using p-value\n",
    "    alpha = 1.0 - prob\n",
    "    print('significance=%.3f, p=%.3f' % (alpha, p))\n",
    "    if p <= alpha:\n",
    "        print('Dependent (reject H0)')\n",
    "    else:\n",
    "        print('Independent (fail to reject H0)')\n"
   ]
  },
  {
   "cell_type": "markdown",
   "metadata": {},
   "source": [
    "##### Defining function for ANOVA statistic"
   ]
  },
  {
   "cell_type": "code",
   "execution_count": 15,
   "metadata": {},
   "outputs": [],
   "source": [
    "def anova_stat(df, a, b):\n",
    "    F, p = stats.f_oneway(df[df[b] == 1][a],\n",
    "                      df[df[b] == 0][a])\n",
    "    \n",
    "    print(\"F value = %.9f\"%F)\n",
    "    print(\"p value = %.9f\"%p)\n",
    "    if p < 0.05:\n",
    "        print(\"%s is significant.\"%a)\n",
    "    else:\n",
    "        print(\"%s is not significant.\"%a)"
   ]
  },
  {
   "cell_type": "markdown",
   "metadata": {},
   "source": [
    "## Analyzing each column"
   ]
  },
  {
   "cell_type": "markdown",
   "metadata": {},
   "source": [
    "### Month "
   ]
  },
  {
   "cell_type": "code",
   "execution_count": 16,
   "metadata": {},
   "outputs": [
    {
     "data": {
      "text/plain": [
       "numpy.int64"
      ]
     },
     "execution_count": 16,
     "metadata": {},
     "output_type": "execute_result"
    }
   ],
   "source": [
    "type(df_new['Month'][0])"
   ]
  },
  {
   "cell_type": "raw",
   "metadata": {},
   "source": [
    "I will be treating month as a categorical variable. Therefore for better interpretibility let's convert it to its abbreviated name"
   ]
  },
  {
   "cell_type": "code",
   "execution_count": 17,
   "metadata": {},
   "outputs": [],
   "source": [
    "df_new['Month'] = df_new['Month'].apply(lambda x: calendar.month_abbr[x])"
   ]
  },
  {
   "cell_type": "markdown",
   "metadata": {},
   "source": [
    "Let's check the distribution of cancelled flights across all the months"
   ]
  },
  {
   "cell_type": "code",
   "execution_count": 18,
   "metadata": {},
   "outputs": [
    {
     "name": "stderr",
     "output_type": "stream",
     "text": [
      "C:\\Users\\archo\\Anaconda3\\lib\\site-packages\\ipykernel_launcher.py:4: FutureWarning: using a dict on a Series for aggregation\n",
      "is deprecated and will be removed in a future version\n",
      "  after removing the cwd from sys.path.\n"
     ]
    },
    {
     "data": {
      "image/png": "[encoded data removed]",
      "text/plain": [
       "<Figure size 1080x360 with 2 Axes>"
      ]
     },
     "metadata": {
      "needs_background": "light"
     },
     "output_type": "display_data"
    }
   ],
   "source": [
    "# Month for most of the Canceled flights - October\n",
    "df_month_new = df_new.groupby('Month').Canceled.agg({\n",
    "    '0': lambda x: (x==0).sum(),\n",
    "    '1': lambda x: (x==1).sum()    \n",
    "})\n",
    "df_month_new['Ratio'] = df_month_new['1']/df_month_new['0']\n",
    "\n",
    "fig, ax = plt.subplots(1,2,figsize=(15,5))\n",
    "ax1 = sns.countplot(x=\"Month\", hue=\"Canceled\", data=df_new, ax = ax[0])\n",
    "ax2 = sns.barplot(x=df_month_new.index.values, y=\"Ratio\", data=df_month_new, ax = ax[1])"
   ]
  },
  {
   "cell_type": "raw",
   "metadata": {},
   "source": [
    "The distribution shows that the ratio varies every month which means that cancelation is dependant on the months. Let's check the chi-square statistic"
   ]
  },
  {
   "cell_type": "code",
   "execution_count": 19,
   "metadata": {},
   "outputs": [
    {
     "name": "stdout",
     "output_type": "stream",
     "text": [
      "probability=0.950, critical=19.675, stat=212.252\n",
      "Dependent (reject H0)\n",
      "significance=0.050, p=0.000\n",
      "Dependent (reject H0)\n"
     ]
    },
    {
     "name": "stderr",
     "output_type": "stream",
     "text": [
      "C:\\Users\\archo\\Anaconda3\\lib\\site-packages\\ipykernel_launcher.py:4: FutureWarning: Method .as_matrix will be removed in a future version. Use .values instead.\n",
      "  after removing the cwd from sys.path.\n"
     ]
    }
   ],
   "source": [
    "# Correlation with Target Variable 'Canceled'\n",
    "chi_sq(df_new,'Month','Canceled')"
   ]
  },
  {
   "cell_type": "markdown",
   "metadata": {},
   "source": [
    "#### This shows that cancelation is dependant on 'month'"
   ]
  },
  {
   "cell_type": "markdown",
   "metadata": {},
   "source": [
    "Since the number of levels in this variable is 12, let's try to reduce it in a logical manner. This is being done to reduce the sparsity of matrix in future(since most of the algorithms require one-hot encoding for the categorical variables)"
   ]
  },
  {
   "cell_type": "markdown",
   "metadata": {},
   "source": [
    "Aggregating months into different seasons"
   ]
  },
  {
   "cell_type": "code",
   "execution_count": 21,
   "metadata": {},
   "outputs": [],
   "source": [
    "df_new['Month_Season'] = df_new['Month'].apply(lambda x: 'Winter' if x in ('Jan', 'Feb', 'Mar') else ('Spring' if x in ('Apr', 'May', 'Jun') else ('Summer' if x in ('Jul', 'Aug', 'Sept') else 'Fall')))"
   ]
  },
  {
   "cell_type": "code",
   "execution_count": 22,
   "metadata": {},
   "outputs": [
    {
     "name": "stderr",
     "output_type": "stream",
     "text": [
      "C:\\Users\\archo\\Anaconda3\\lib\\site-packages\\ipykernel_launcher.py:3: FutureWarning: using a dict on a Series for aggregation\n",
      "is deprecated and will be removed in a future version\n",
      "  This is separate from the ipykernel package so we can avoid doing imports until\n"
     ]
    },
    {
     "data": {
      "image/png": "[encoded data removed]",
      "text/plain": [
       "<Figure size 1080x360 with 2 Axes>"
      ]
     },
     "metadata": {
      "needs_background": "light"
     },
     "output_type": "display_data"
    }
   ],
   "source": [
    "df_month_new = df_new.groupby('Month_Season').Canceled.agg({\n",
    "    '0': lambda x: (x==0).sum(),\n",
    "    '1': lambda x: (x==1).sum()    \n",
    "})\n",
    "df_month_new['Ratio'] = df_month_new['1']/df_month_new['0']\n",
    "\n",
    "fig, ax = plt.subplots(1,2,figsize=(15,5))\n",
    "ax1 = sns.countplot(x=\"Month_Season\", hue=\"Canceled\", data=df_new, ax = ax[0])\n",
    "ax2 = sns.barplot(x=df_month_new.index.values, y=\"Ratio\", data=df_month_new, ax = ax[1])"
   ]
  },
  {
   "cell_type": "markdown",
   "metadata": {},
   "source": [
    "Let's check the importance of new variable wrt the target"
   ]
  },
  {
   "cell_type": "code",
   "execution_count": 23,
   "metadata": {},
   "outputs": [
    {
     "name": "stdout",
     "output_type": "stream",
     "text": [
      "probability=0.950, critical=7.815, stat=124.887\n",
      "Dependent (reject H0)\n",
      "significance=0.050, p=0.000\n",
      "Dependent (reject H0)\n"
     ]
    },
    {
     "name": "stderr",
     "output_type": "stream",
     "text": [
      "C:\\Users\\archo\\Anaconda3\\lib\\site-packages\\ipykernel_launcher.py:4: FutureWarning: Method .as_matrix will be removed in a future version. Use .values instead.\n",
      "  after removing the cwd from sys.path.\n"
     ]
    }
   ],
   "source": [
    "chi_sq(df_new,'Month_Season','Canceled')"
   ]
  },
  {
   "cell_type": "markdown",
   "metadata": {},
   "source": [
    "The new formed variable is still very important. Which means the target is dependant on this.\n",
    "\n",
    "\n",
    "*********** Included in the model ****************"
   ]
  },
  {
   "cell_type": "code",
   "execution_count": 24,
   "metadata": {},
   "outputs": [],
   "source": [
    "selected_cols = []\n",
    "selected_cols.append('Month_Season')"
   ]
  },
  {
   "cell_type": "markdown",
   "metadata": {},
   "source": [
    "### DepartureTime \n",
    "The time is in military timing so in order to convert it to a feature we can create a new column to mark the timing bucket corresponding to the departure time hence making it into a categorical variable named as 'DeptTimeSession'"
   ]
  },
  {
   "cell_type": "code",
   "execution_count": 72,
   "metadata": {
    "scrolled": false
   },
   "outputs": [],
   "source": [
    "for i, val in df_new.iterrows():\n",
    "    if (len(str(val['DepartureTime']))) == 3:\n",
    "        converted_time = datetime.time(hour=int(str(val['DepartureTime'])[0:1]), minute=int(str(val['DepartureTime'])[1:3]))\n",
    "        df_new.iloc[i, df_new.columns.get_loc('DepartureTime')] = datetime.datetime.combine(datetime.datetime.today(), converted_time)\n",
    "    elif (len(str(val['DepartureTime']))) == 4:\n",
    "        converted_time = datetime.time(hour=int(str(val['DepartureTime'])[0:2]), minute=int(str(val['DepartureTime'])[2:4]))\n",
    "        df_new.iloc[i, df_new.columns.get_loc('DepartureTime')] = datetime.datetime.combine(datetime.datetime.today(), converted_time)\n",
    "df_new['DepartureTime'] = pd.to_datetime(df_new['DepartureTime'], errors='coerce')\n",
    "\n",
    "session=pd.cut(df_new.DepartureTime.dt.hour,\n",
    "               [0,6,12,18,23],\n",
    "               labels=['Night','Morning','Afternoon','Evening'],\n",
    "               include_lowest=True)\n",
    "\n",
    "df_new['DepTimeSession'] = session    "
   ]
  },
  {
   "cell_type": "code",
   "execution_count": null,
   "metadata": {},
   "outputs": [],
   "source": [
    "df_dept_new = df_new.groupby('DepTimeSession').Canceled.agg({\n",
    "    '0': lambda x: (x==0).sum(),\n",
    "    '1': lambda x: (x==1).sum()\n",
    "    })\n",
    "\n",
    "df_dept_new['Ratio'] = df_dept_new['1']/df_dept_new['0']\n",
    "fig, ax = plt.subplots(1,2,figsize=(15,5))\n",
    "ax1 = sns.countplot(x=\"DepTimeSession\", hue=\"Canceled\", data=df_new, ax = ax[0])\n",
    "\n",
    "ax2 = sns.barplot(x=df_dept_new.index.values, y=\"Ratio\", data=df_dept_new, ax = ax[1])"
   ]
  },
  {
   "cell_type": "markdown",
   "metadata": {},
   "source": [
    "The visualizations show that there is a slight variation in cancelation across different times of a day. Let's check it statistically"
   ]
  },
  {
   "cell_type": "code",
   "execution_count": null,
   "metadata": {},
   "outputs": [],
   "source": [
    "chi_sq(df_new,'DepTimeSession','Canceled')"
   ]
  },
  {
   "cell_type": "markdown",
   "metadata": {},
   "source": [
    "The chi-sq statistic says that the target is not dependant on the timings. Also the p-value is greater than 0.05.\n",
    "\n",
    "******************* Not included in the mode **************************"
   ]
  },
  {
   "cell_type": "markdown",
   "metadata": {},
   "source": [
    "## UniqueCarrier"
   ]
  },
  {
   "cell_type": "code",
   "execution_count": null,
   "metadata": {},
   "outputs": [],
   "source": [
    "df_uc_new = df_new.groupby('UniqueCarrier').Canceled.agg({\n",
    "    '0': lambda x: (x==0).sum(),\n",
    "    '1': lambda x: (x==1).sum()\n",
    "})\n",
    "\n",
    "df_uc_new['Ratio'] = df_uc_new['1']/df_uc_new['0']\n",
    "\n",
    "\n",
    "fig, ax = plt.subplots(1,2,figsize=(15,5))\n",
    "ax1 = sns.countplot(x=\"UniqueCarrier\", hue=\"Canceled\", data=df_new, ax = ax[0])\n",
    "\n",
    "ax2 = sns.barplot(x=df_uc_new.index.values, y=\"Ratio\", data=df_uc_new, ax = ax[1])"
   ]
  },
  {
   "cell_type": "markdown",
   "metadata": {},
   "source": [
    "IT looks like there is a variation in cancelation across airlines. Let's check the chi-square statistic"
   ]
  },
  {
   "cell_type": "code",
   "execution_count": null,
   "metadata": {},
   "outputs": [],
   "source": [
    "chi_sq(df_new,'UniqueCarrier','Canceled')"
   ]
  },
  {
   "cell_type": "markdown",
   "metadata": {},
   "source": [
    "The chi-sq statistic shows that the target is dependant on this variable.\n",
    "\n",
    "**************** Included in the model *********************"
   ]
  },
  {
   "cell_type": "code",
   "execution_count": 62,
   "metadata": {},
   "outputs": [],
   "source": [
    "selected_cols.append('UniqueCarrier')"
   ]
  },
  {
   "cell_type": "markdown",
   "metadata": {},
   "source": [
    "### SchedElapsedTime"
   ]
  },
  {
   "cell_type": "markdown",
   "metadata": {},
   "source": [
    "#### Converting Scheduled flight time(in minutes) to military time to be comparable to Departure time."
   ]
  },
  {
   "cell_type": "markdown",
   "metadata": {},
   "source": [
    "The time should be propotional to the distance of the rout(excluding some macro factors). Let's check the correlation between scheduled elapsed time and the distance."
   ]
  },
  {
   "cell_type": "code",
   "execution_count": null,
   "metadata": {},
   "outputs": [],
   "source": [
    "pearsonr(df_new['SchedElapsedTime'], df_new['Distance'])"
   ]
  },
  {
   "cell_type": "markdown",
   "metadata": {},
   "source": [
    "This shows that scheduled elapsed time is extremely correlated to the distance. Using this information we can take one of these two variables to address a potential multi-collinearity. Let's check the statistical significance of these variables w.r.t the target."
   ]
  },
  {
   "cell_type": "markdown",
   "metadata": {},
   "source": [
    "#### SchedElapsedTime with Target Variable"
   ]
  },
  {
   "cell_type": "code",
   "execution_count": null,
   "metadata": {},
   "outputs": [],
   "source": [
    "anova_stat(df_new,'SchedElapsedTime','Canceled')"
   ]
  },
  {
   "cell_type": "code",
   "execution_count": null,
   "metadata": {},
   "outputs": [],
   "source": [
    "anova_stat(df_new,'Distance','Canceled')"
   ]
  },
  {
   "cell_type": "code",
   "execution_count": null,
   "metadata": {},
   "outputs": [],
   "source": [
    "sns.distplot(df_new[df_new['Canceled']==0]['Distance'])"
   ]
  },
  {
   "cell_type": "code",
   "execution_count": 26,
   "metadata": {},
   "outputs": [
    {
     "data": {
      "text/plain": [
       "(1013.5513102620524, 881.5753413812122)"
      ]
     },
     "execution_count": 26,
     "metadata": {},
     "output_type": "execute_result"
    }
   ],
   "source": [
    "(df_new[df_new['Canceled']==0]['Distance']).mean() , (df_new[df_new['Canceled']==1]['Distance']).mean()"
   ]
  },
  {
   "cell_type": "markdown",
   "metadata": {},
   "source": [
    "We can see that the p-value is smaller for distance. Therefore we can conclude that the target is more dependant on this variable\n",
    "\n",
    "****************** Included in the model ***********************"
   ]
  },
  {
   "cell_type": "code",
   "execution_count": 27,
   "metadata": {},
   "outputs": [],
   "source": [
    "selected_cols.append('Distance')"
   ]
  },
  {
   "cell_type": "markdown",
   "metadata": {},
   "source": [
    "### ArrDelay and DepDelay"
   ]
  },
  {
   "cell_type": "markdown",
   "metadata": {},
   "source": [
    "Hypothesis - If the fight has arrived late it will depart late by almost the same amount of time. Let's validate this by seeing the correlation between these 2 quantities"
   ]
  },
  {
   "cell_type": "code",
   "execution_count": 28,
   "metadata": {},
   "outputs": [
    {
     "data": {
      "text/plain": [
       "(0.8961122517063191, 0.0)"
      ]
     },
     "execution_count": 28,
     "metadata": {},
     "output_type": "execute_result"
    }
   ],
   "source": [
    "pearsonr(df_new['ArrDelay'], df_new['DepDelay'])"
   ]
  },
  {
   "cell_type": "markdown",
   "metadata": {},
   "source": [
    "Pearson's correlation validates the hypothesis till a great extent. This will help us in future. We can select just one of these two variables in order to addressa potential multi-collinearity"
   ]
  },
  {
   "cell_type": "markdown",
   "metadata": {},
   "source": [
    "Let's see the distribution of arrival delay for canceled and not-canceled flights"
   ]
  },
  {
   "cell_type": "code",
   "execution_count": 71,
   "metadata": {
    "scrolled": true
   },
   "outputs": [
    {
     "data": {
      "text/plain": [
       "<matplotlib.axes._subplots.AxesSubplot at 0x2890a195b00>"
      ]
     },
     "execution_count": 71,
     "metadata": {},
     "output_type": "execute_result"
    },
    {
     "data": {
      "image/png": "[encoded data removed]",
      "text/plain": [
       "<Figure size 720x216 with 2 Axes>"
      ]
     },
     "metadata": {
      "needs_background": "light"
     },
     "output_type": "display_data"
    }
   ],
   "source": [
    "fig, ax = plt.subplots(1,2,figsize=(10,3))\n",
    "sns.distplot(df_new[df_new['Canceled']==0]['ArrDelay'], ax = ax[0])\n",
    "sns.distplot(df_new[df_new['Canceled']==1]['ArrDelay'], ax = ax[1])"
   ]
  },
  {
   "cell_type": "markdown",
   "metadata": {},
   "source": [
    "Average delay in arrival accross different airlines"
   ]
  },
  {
   "cell_type": "code",
   "execution_count": 79,
   "metadata": {},
   "outputs": [
    {
     "data": {
      "text/plain": [
       "(7.652434956637759, 9.400862239949243, 11.558749369641957)"
      ]
     },
     "execution_count": 79,
     "metadata": {},
     "output_type": "execute_result"
    }
   ],
   "source": [
    "(df_new[(df_new['Canceled']==0) & (df_new['UniqueCarrier']=='DL')]['ArrDelay']).mean() , (df_new[(df_new['Canceled']==0) & (df_new['UniqueCarrier']=='UA')]['ArrDelay']).mean() , (df_new[(df_new['Canceled']==0) & (df_new['UniqueCarrier']=='AA')]['ArrDelay']).mean()"
   ]
  },
  {
   "cell_type": "markdown",
   "metadata": {},
   "source": [
    "We can see that the arrival delay is not reported for the canceled flights. Whereas for the non-canceld ones most of the flights come on time"
   ]
  },
  {
   "cell_type": "markdown",
   "metadata": {},
   "source": [
    "As we can see, most of the observations are in the last plot and are positively correlated. LEt's now try to see if the arrival and departure delay are dependant on the target or not"
   ]
  },
  {
   "cell_type": "code",
   "execution_count": 30,
   "metadata": {},
   "outputs": [
    {
     "name": "stdout",
     "output_type": "stream",
     "text": [
      "F value = 62.219367159\n",
      "p value = 0.000000000\n",
      "ArrDelay is significant.\n"
     ]
    }
   ],
   "source": [
    "anova_stat(df_new,'ArrDelay','Canceled')"
   ]
  },
  {
   "cell_type": "code",
   "execution_count": 31,
   "metadata": {},
   "outputs": [
    {
     "name": "stdout",
     "output_type": "stream",
     "text": [
      "F value = 99.504387159\n",
      "p value = 0.000000000\n",
      "DepDelay is significant.\n"
     ]
    }
   ],
   "source": [
    "anova_stat(df_new,'DepDelay','Canceled')"
   ]
  },
  {
   "cell_type": "markdown",
   "metadata": {},
   "source": [
    "This shows that these 2 variables are relevant in determining the cancellation."
   ]
  },
  {
   "cell_type": "markdown",
   "metadata": {},
   "source": [
    "Also, we have seen earlier that the original delay variables are relevant for the target. My understanding is that arrival data will be available before the departure data and hence we can make our model informed earlier by using this data. Therefore we are including 'ArrDelay' and not 'DepDelay' to avoid multi-collinearity\n",
    "\n",
    "******************** Included in the model **********************"
   ]
  },
  {
   "cell_type": "code",
   "execution_count": 32,
   "metadata": {},
   "outputs": [],
   "source": [
    "selected_cols.append('ArrDelay')"
   ]
  },
  {
   "cell_type": "markdown",
   "metadata": {},
   "source": [
    "## Test Train Split"
   ]
  },
  {
   "cell_type": "code",
   "execution_count": 63,
   "metadata": {},
   "outputs": [],
   "source": [
    "x = df_new[selected_cols]\n",
    "y = df_new['Canceled']\n",
    "\n",
    "X_train, X_test, Y_train, Y_test = train_test_split(x, y, test_size=0.33, random_state=42)"
   ]
  },
  {
   "cell_type": "markdown",
   "metadata": {},
   "source": [
    "##### One hot encoding the categorical variables"
   ]
  },
  {
   "cell_type": "code",
   "execution_count": 64,
   "metadata": {},
   "outputs": [
    {
     "data": {
      "text/html": [
       "<div>\n",
       "<style scoped>\n",
       "    .dataframe tbody tr th:only-of-type {\n",
       "        vertical-align: middle;\n",
       "    }\n",
       "\n",
       "    .dataframe tbody tr th {\n",
       "        vertical-align: top;\n",
       "    }\n",
       "\n",
       "    .dataframe thead th {\n",
       "        text-align: right;\n",
       "    }\n",
       "</style>\n",
       "<table border=\"1\" class=\"dataframe\">\n",
       "  <thead>\n",
       "    <tr style=\"text-align: right;\">\n",
       "      <th></th>\n",
       "      <th>Distance</th>\n",
       "      <th>ArrDelay</th>\n",
       "      <th>Month_Season_Fall</th>\n",
       "      <th>Month_Season_Spring</th>\n",
       "      <th>Month_Season_Summer</th>\n",
       "      <th>Month_Season_Winter</th>\n",
       "      <th>UniqueCarrier_AA</th>\n",
       "      <th>UniqueCarrier_DL</th>\n",
       "      <th>UniqueCarrier_UA</th>\n",
       "    </tr>\n",
       "  </thead>\n",
       "  <tbody>\n",
       "    <tr>\n",
       "      <th>5037</th>\n",
       "      <td>291.0</td>\n",
       "      <td>-1.0</td>\n",
       "      <td>1</td>\n",
       "      <td>0</td>\n",
       "      <td>0</td>\n",
       "      <td>0</td>\n",
       "      <td>0</td>\n",
       "      <td>1</td>\n",
       "      <td>0</td>\n",
       "    </tr>\n",
       "    <tr>\n",
       "      <th>2983</th>\n",
       "      <td>321.0</td>\n",
       "      <td>92.0</td>\n",
       "      <td>1</td>\n",
       "      <td>0</td>\n",
       "      <td>0</td>\n",
       "      <td>0</td>\n",
       "      <td>0</td>\n",
       "      <td>1</td>\n",
       "      <td>0</td>\n",
       "    </tr>\n",
       "    <tr>\n",
       "      <th>1114</th>\n",
       "      <td>334.0</td>\n",
       "      <td>2.0</td>\n",
       "      <td>1</td>\n",
       "      <td>0</td>\n",
       "      <td>0</td>\n",
       "      <td>0</td>\n",
       "      <td>1</td>\n",
       "      <td>0</td>\n",
       "      <td>0</td>\n",
       "    </tr>\n",
       "    <tr>\n",
       "      <th>4844</th>\n",
       "      <td>258.0</td>\n",
       "      <td>-10.0</td>\n",
       "      <td>0</td>\n",
       "      <td>0</td>\n",
       "      <td>1</td>\n",
       "      <td>0</td>\n",
       "      <td>1</td>\n",
       "      <td>0</td>\n",
       "      <td>0</td>\n",
       "    </tr>\n",
       "    <tr>\n",
       "      <th>1580</th>\n",
       "      <td>678.0</td>\n",
       "      <td>-1.0</td>\n",
       "      <td>0</td>\n",
       "      <td>0</td>\n",
       "      <td>1</td>\n",
       "      <td>0</td>\n",
       "      <td>0</td>\n",
       "      <td>0</td>\n",
       "      <td>1</td>\n",
       "    </tr>\n",
       "  </tbody>\n",
       "</table>\n",
       "</div>"
      ],
      "text/plain": [
       "      Distance  ArrDelay  Month_Season_Fall  Month_Season_Spring  \\\n",
       "5037     291.0      -1.0                  1                    0   \n",
       "2983     321.0      92.0                  1                    0   \n",
       "1114     334.0       2.0                  1                    0   \n",
       "4844     258.0     -10.0                  0                    0   \n",
       "1580     678.0      -1.0                  0                    0   \n",
       "\n",
       "      Month_Season_Summer  Month_Season_Winter  UniqueCarrier_AA  \\\n",
       "5037                    0                    0                 0   \n",
       "2983                    0                    0                 0   \n",
       "1114                    0                    0                 1   \n",
       "4844                    1                    0                 1   \n",
       "1580                    1                    0                 0   \n",
       "\n",
       "      UniqueCarrier_DL  UniqueCarrier_UA  \n",
       "5037                 1                 0  \n",
       "2983                 1                 0  \n",
       "1114                 0                 0  \n",
       "4844                 0                 0  \n",
       "1580                 0                 1  "
      ]
     },
     "execution_count": 64,
     "metadata": {},
     "output_type": "execute_result"
    }
   ],
   "source": [
    "#If categoricalvariables\n",
    "X_train_oh = pd.get_dummies(X_train)\n",
    "X_test_oh = pd.get_dummies(X_test)\n",
    "\n",
    "X_train_oh.head()"
   ]
  },
  {
   "cell_type": "markdown",
   "metadata": {},
   "source": [
    "## Q1 - Build a model to predict whether a flight will be canceled."
   ]
  },
  {
   "cell_type": "markdown",
   "metadata": {},
   "source": [
    "## Supervised learning - Models"
   ]
  },
  {
   "cell_type": "markdown",
   "metadata": {},
   "source": [
    "### Random Forests"
   ]
  },
  {
   "cell_type": "markdown",
   "metadata": {},
   "source": [
    "#### Defining the grid and tuning the hyperparameters"
   ]
  },
  {
   "cell_type": "code",
   "execution_count": 65,
   "metadata": {},
   "outputs": [
    {
     "name": "stdout",
     "output_type": "stream",
     "text": [
      "{'n_estimators': [200, 400, 600, 800, 1000, 1200, 1400, 1600, 1800, 2000], 'max_features': ['auto', 'sqrt'], 'max_depth': [10, 20, 30, 40, 50, 60, 70, 80, 90, 100, 110, None], 'min_samples_split': [2, 5, 10], 'min_samples_leaf': [1, 2, 4], 'bootstrap': [True, False]}\n",
      "Fitting 3 folds for each of 100 candidates, totalling 300 fits\n"
     ]
    },
    {
     "name": "stderr",
     "output_type": "stream",
     "text": [
      "[Parallel(n_jobs=-1)]: Using backend LokyBackend with 8 concurrent workers.\n",
      "[Parallel(n_jobs=-1)]: Done  25 tasks      | elapsed:   21.0s\n",
      "[Parallel(n_jobs=-1)]: Done 146 tasks      | elapsed:  1.1min\n",
      "[Parallel(n_jobs=-1)]: Done 300 out of 300 | elapsed:  2.3min finished\n"
     ]
    },
    {
     "data": {
      "text/plain": [
       "RandomizedSearchCV(cv=3, error_score='raise-deprecating',\n",
       "          estimator=RandomForestClassifier(bootstrap=True, class_weight=None, criterion='gini',\n",
       "            max_depth=None, max_features='auto', max_leaf_nodes=None,\n",
       "            min_impurity_decrease=0.0, min_impurity_split=None,\n",
       "            min_samples_leaf=1, min_samples_split=2,\n",
       "            min_weight_fraction_leaf=0.0, n_estimators='warn', n_jobs=None,\n",
       "            oob_score=False, random_state=None, verbose=0,\n",
       "            warm_start=False),\n",
       "          fit_params=None, iid='warn', n_iter=100, n_jobs=-1,\n",
       "          param_distributions={'n_estimators': [200, 400, 600, 800, 1000, 1200, 1400, 1600, 1800, 2000], 'max_features': ['auto', 'sqrt'], 'max_depth': [10, 20, 30, 40, 50, 60, 70, 80, 90, 100, 110, None], 'min_samples_split': [2, 5, 10], 'min_samples_leaf': [1, 2, 4], 'bootstrap': [True, False]},\n",
       "          pre_dispatch='2*n_jobs', random_state=42, refit=True,\n",
       "          return_train_score='warn', scoring=None, verbose=2)"
      ]
     },
     "execution_count": 65,
     "metadata": {},
     "output_type": "execute_result"
    }
   ],
   "source": [
    "#Random forest classifier\n",
    "\n",
    "## Initializing grid \n",
    "from sklearn.model_selection import RandomizedSearchCV\n",
    "from sklearn.ensemble import RandomForestClassifier\n",
    "\n",
    "# Number of trees in random forest\n",
    "n_estimators = [int(x) for x in np.linspace(start = 200, stop = 2000, num = 10)]\n",
    "# Number of features to consider at every split\n",
    "max_features = ['auto', 'sqrt']\n",
    "# Maximum number of levels in tree\n",
    "max_depth = [int(x) for x in np.linspace(10, 110, num = 11)]\n",
    "max_depth.append(None)\n",
    "# Minimum number of samples required to split a node\n",
    "min_samples_split = [2, 5, 10]\n",
    "# Minimum number of samples required at each leaf node\n",
    "min_samples_leaf = [1, 2, 4]\n",
    "# Method of selecting samples for training each tree\n",
    "bootstrap = [True, False]\n",
    "# Create the random grid\n",
    "random_grid = {'n_estimators': n_estimators,\n",
    "               'max_features': max_features,\n",
    "               'max_depth': max_depth,\n",
    "               'min_samples_split': min_samples_split,\n",
    "               'min_samples_leaf': min_samples_leaf,\n",
    "               'bootstrap': bootstrap}\n",
    "print(random_grid)\n",
    "\n",
    "rf = RandomForestClassifier()\n",
    "#defining params for gridsearch\n",
    "rf_random = RandomizedSearchCV(estimator = rf, param_distributions = random_grid, n_iter = 100, cv = 3, verbose=2, random_state=42, n_jobs = -1)\n",
    "\n",
    "# Fit the random search model\n",
    "rf_random.fit(X_train_oh, Y_train)"
   ]
  },
  {
   "cell_type": "markdown",
   "metadata": {},
   "source": [
    "#### Prediction"
   ]
  },
  {
   "cell_type": "code",
   "execution_count": 66,
   "metadata": {},
   "outputs": [],
   "source": [
    "#Prediction\n",
    "from sklearn.metrics import accuracy_score\n",
    "from sklearn.metrics import recall_score\n",
    "\n",
    "best_model=rf_random.best_estimator_\n",
    "\n",
    "y_pred_rf = best_model.predict(X_test_oh)"
   ]
  },
  {
   "cell_type": "markdown",
   "metadata": {},
   "source": [
    "#### Evaluating model performance"
   ]
  },
  {
   "cell_type": "code",
   "execution_count": 67,
   "metadata": {},
   "outputs": [
    {
     "name": "stdout",
     "output_type": "stream",
     "text": [
      "Model Performance - Accuracy 97.27272727272728\n",
      "Model Performance - Recall 98.32869080779945\n"
     ]
    },
    {
     "name": "stderr",
     "output_type": "stream",
     "text": [
      "C:\\Users\\archo\\Anaconda3\\lib\\site-packages\\ipykernel_launcher.py:2: RuntimeWarning: divide by zero encountered in true_divide\n",
      "  \n",
      "C:\\Users\\archo\\Anaconda3\\lib\\site-packages\\ipykernel_launcher.py:2: RuntimeWarning: invalid value encountered in true_divide\n",
      "  \n"
     ]
    }
   ],
   "source": [
    "errors = abs(y_pred_rf - np.array(Y_test))\n",
    "mape = 100 * np.mean(errors / np.array(Y_test))\n",
    "accuracy = 100 - mape\n",
    "print('Model Performance - Accuracy', accuracy_score(np.array(Y_test), y_pred_rf)*100)\n",
    "print('Model Performance - Recall', recall_score(np.array(Y_test), y_pred_rf)*100)"
   ]
  },
  {
   "cell_type": "markdown",
   "metadata": {},
   "source": [
    "The accuracy and recall value of the model are quite good. Eventhough the target is imbalanced, random forests does a good job in achievning a good recall value."
   ]
  },
  {
   "cell_type": "markdown",
   "metadata": {},
   "source": [
    "#### Confusion Matrix"
   ]
  },
  {
   "cell_type": "code",
   "execution_count": 68,
   "metadata": {},
   "outputs": [],
   "source": [
    "c_m = cm(np.array(Y_test), y_pred_rf,labels=[1,0])"
   ]
  },
  {
   "cell_type": "code",
   "execution_count": 69,
   "metadata": {},
   "outputs": [
    {
     "data": {
      "image/png": "[encoded data removed]",
      "text/plain": [
       "<Figure size 432x288 with 2 Axes>"
      ]
     },
     "metadata": {
      "needs_background": "light"
     },
     "output_type": "display_data"
    }
   ],
   "source": [
    "import itertools\n",
    "plt.imshow(c_m,cmap=plt.cm.Blues,interpolation='nearest')\n",
    "plt.colorbar()\n",
    "plt.title('Confusion Matrix without Normalization')\n",
    "plt.xlabel('Predicted')\n",
    "plt.ylabel('Actual')\n",
    "tick_marks = np.arange(2) # length of classes\n",
    "class_labels = ['1','0']\n",
    "tick_marks\n",
    "plt.xticks(tick_marks,class_labels)\n",
    "plt.yticks(tick_marks,class_labels)\n",
    "# plotting text value inside cells\n",
    "thresh = c_m.max() / 2.\n",
    "for i,j in itertools.product(range(c_m.shape[0]),range(c_m.shape[1])):\n",
    "    plt.text(j,i,format(c_m[i,j],'d'),horizontalalignment='center',color='white' if c_m[i,j] >thresh else 'black')\n",
    "plt.show();"
   ]
  },
  {
   "cell_type": "markdown",
   "metadata": {},
   "source": [
    "#### Feature Importance"
   ]
  },
  {
   "cell_type": "code",
   "execution_count": 80,
   "metadata": {},
   "outputs": [
    {
     "data": {
      "text/plain": [
       "[('Distance', 0.08542327402413599),\n",
       " ('ArrDelay', 0.8815841814822485),\n",
       " ('Month_Season_Fall', 0.006441846480878617),\n",
       " ('Month_Season_Spring', 0.0024690552653685066),\n",
       " ('Month_Season_Summer', 0.0024422735683183863),\n",
       " ('Month_Season_Winter', 0.006856988908345152),\n",
       " ('UniqueCarrier_AA', 0.004569994658369084),\n",
       " ('UniqueCarrier_DL', 0.007617391969314692),\n",
       " ('UniqueCarrier_UA', 0.0025949936430215226)]"
      ]
     },
     "execution_count": 80,
     "metadata": {},
     "output_type": "execute_result"
    }
   ],
   "source": [
    "list(zip(X_train_oh.columns,best_model.feature_importances_))"
   ]
  },
  {
   "cell_type": "markdown",
   "metadata": {},
   "source": [
    "## Q2 - Write your own function that uses the model output to predict whether a future ﬂight will be canceled."
   ]
  },
  {
   "cell_type": "code",
   "execution_count": 197,
   "metadata": {},
   "outputs": [],
   "source": [
    "def cancel_pred(Season,Carrier_airlines,Arrival_Delay,Dist):\n",
    "    interm_df =  pd.DataFrame({'Month_Season':[Season],'Carrier':[Carrier_airlines],'ArrDelay':[Arrival_Delay],'Distance':[Dist]})\n",
    "    X_test_oh = pd.get_dummies(interm_df)\n",
    "    \n",
    "    X_test_full = pd.DataFrame({'ArrDelay':[0], 'Distance':[0], 'Month_Season_Fall':[0], 'Month_Season_Spring':[0],\n",
    "       'Month_Season_Summer':[0], 'Month_Season_Winter':[0], 'UniqueCarrier_AA':[0],\n",
    "       'UniqueCarrier_DL':[0], 'UniqueCarrier_UA':[0]})\n",
    "    \n",
    "    for col in list(set(X_test_oh.columns) & set(X_test_full.columns)):\n",
    "        X_test_full[col] = X_test_oh[col]\n",
    "    \n",
    "    \n",
    "    y_pred = best_model.predict(X_test_full)\n",
    "    \n",
    "    if (y_pred==0):\n",
    "        print('Flight might not get cancelled')\n",
    "    else:\n",
    "        print('Flight might get cancelled')"
   ]
  },
  {
   "cell_type": "code",
   "execution_count": 206,
   "metadata": {},
   "outputs": [
    {
     "name": "stdout",
     "output_type": "stream",
     "text": [
      "Flight might not get cancelled\n"
     ]
    }
   ],
   "source": [
    "cancel_pred('Winter','AA',1000,4000)"
   ]
  },
  {
   "cell_type": "markdown",
   "metadata": {},
   "source": [
    "## Q4 - Provide a recommendation on which airline is most reliable."
   ]
  },
  {
   "cell_type": "code",
   "execution_count": 210,
   "metadata": {},
   "outputs": [
    {
     "name": "stderr",
     "output_type": "stream",
     "text": [
      "C:\\Users\\archo\\Anaconda3\\lib\\site-packages\\ipykernel_launcher.py:3: FutureWarning: using a dict on a Series for aggregation\n",
      "is deprecated and will be removed in a future version\n",
      "  This is separate from the ipykernel package so we can avoid doing imports until\n"
     ]
    },
    {
     "data": {
      "image/png": "[encoded data removed]",
      "text/plain": [
       "<Figure size 1080x360 with 2 Axes>"
      ]
     },
     "metadata": {
      "needs_background": "light"
     },
     "output_type": "display_data"
    }
   ],
   "source": [
    "df_uc_new = df_new.groupby('UniqueCarrier').Canceled.agg({\n",
    "    '0': lambda x: (x==0).sum(),\n",
    "    '1': lambda x: (x==1).sum()\n",
    "})\n",
    "\n",
    "df_uc_new['Ratio'] = df_uc_new['1']/(df_uc_new['0']+df_uc_new['1'])\n",
    "fig, ax = plt.subplots(1,2,figsize=(15,5))\n",
    "ax1 = sns.countplot(x=\"UniqueCarrier\", hue=\"Canceled\", data=df_new, ax = ax[0])\n",
    "ax2 = sns.barplot(x=df_uc_new.index.values, y=\"Ratio\", data=df_uc_new, ax = ax[1])"
   ]
  },
  {
   "cell_type": "markdown",
   "metadata": {},
   "source": [
    "##### 'DL' airlines is most reliable. This is because the ratio of canceled/total is 0.1 which is the least among all the airlines"
   ]
  },
  {
   "cell_type": "markdown",
   "metadata": {},
   "source": [
    "## SQL "
   ]
  },
  {
   "cell_type": "code",
   "execution_count": 1,
   "metadata": {},
   "outputs": [],
   "source": [
    "## Connecting to DB\n",
    "\n",
    "import mysql.connector\n",
    "import pandas as pd\n",
    "\n",
    "conn = mysql.connector.connect(host=\"localhost\", port=3306, user=\"root\", passwd=\"pinkftw94@\", db=\"digitas\")\n",
    "\n",
    "query1 = ('''\n",
    "select t2.*\n",
    "from \n",
    "(\n",
    "Select  t1.Age, \n",
    "((count(t1.Age)/ (Select count(distinct Name_vals) from Demos where Age is not null and Name_vals  not in (select Visitor from fraud))) * 100) as 'Percentage'\n",
    "from (SELECT Name_vals, max(Age) as Age\n",
    "FROM Demos\n",
    "Group by Name_vals) as t1\n",
    "where t1.Age is not null\n",
    "and t1.Name_vals  not in (select Visitor from fraud)\n",
    "Group by t1.Age\n",
    ") as t2\n",
    "where t2.Percentage > 5\n",
    "''')\n",
    "\n",
    "query1 = query1.replace(\"\\n\",\" \")\n",
    "\n",
    "query_2 = ('''\n",
    "Select Visitor, avg(Transactions) as AVG_Trans, IF(max(Transactions) > 100,'1','0') as 'Indicator'\n",
    "from Purchases\n",
    "where Visitor in (Select d.Name_vals\n",
    "from Demos d\n",
    "where d.Name_vals not in ( select Visitor from fraud)\n",
    "and d.Age is not null\n",
    "and d.Age = (Select max(Age) from Demos where Name_vals = d.Name_vals))\n",
    "group by Visitor\n",
    "Having Visitor like 'A%'\n",
    "ORDER by AVG_Trans DESC\n",
    "LIMIT 10;''')\n",
    "\n",
    "query_2 = query_2.replace(\"\\n\",\" \")\n",
    "\n",
    "\n",
    "df_query_1 = pd.read_sql_query(query1, conn)\n",
    "\n",
    "df_query_2 = pd.read_sql_query(query_2, conn)\n"
   ]
  },
  {
   "cell_type": "code",
   "execution_count": 2,
   "metadata": {},
   "outputs": [
    {
     "data": {
      "text/html": [
       "<div>\n",
       "<style scoped>\n",
       "    .dataframe tbody tr th:only-of-type {\n",
       "        vertical-align: middle;\n",
       "    }\n",
       "\n",
       "    .dataframe tbody tr th {\n",
       "        vertical-align: top;\n",
       "    }\n",
       "\n",
       "    .dataframe thead th {\n",
       "        text-align: right;\n",
       "    }\n",
       "</style>\n",
       "<table border=\"1\" class=\"dataframe\">\n",
       "  <thead>\n",
       "    <tr style=\"text-align: right;\">\n",
       "      <th></th>\n",
       "      <th>Age</th>\n",
       "      <th>Percentage</th>\n",
       "    </tr>\n",
       "  </thead>\n",
       "  <tbody>\n",
       "    <tr>\n",
       "      <th>0</th>\n",
       "      <td>30</td>\n",
       "      <td>5.8824</td>\n",
       "    </tr>\n",
       "    <tr>\n",
       "      <th>1</th>\n",
       "      <td>26</td>\n",
       "      <td>5.8824</td>\n",
       "    </tr>\n",
       "    <tr>\n",
       "      <th>2</th>\n",
       "      <td>29</td>\n",
       "      <td>5.8824</td>\n",
       "    </tr>\n",
       "    <tr>\n",
       "      <th>3</th>\n",
       "      <td>25</td>\n",
       "      <td>5.8824</td>\n",
       "    </tr>\n",
       "    <tr>\n",
       "      <th>4</th>\n",
       "      <td>37</td>\n",
       "      <td>5.8824</td>\n",
       "    </tr>\n",
       "    <tr>\n",
       "      <th>5</th>\n",
       "      <td>40</td>\n",
       "      <td>5.8824</td>\n",
       "    </tr>\n",
       "    <tr>\n",
       "      <th>6</th>\n",
       "      <td>20</td>\n",
       "      <td>64.7059</td>\n",
       "    </tr>\n",
       "  </tbody>\n",
       "</table>\n",
       "</div>"
      ],
      "text/plain": [
       "   Age  Percentage\n",
       "0   30      5.8824\n",
       "1   26      5.8824\n",
       "2   29      5.8824\n",
       "3   25      5.8824\n",
       "4   37      5.8824\n",
       "5   40      5.8824\n",
       "6   20     64.7059"
      ]
     },
     "execution_count": 2,
     "metadata": {},
     "output_type": "execute_result"
    }
   ],
   "source": [
    "df_query_1"
   ]
  },
  {
   "cell_type": "code",
   "execution_count": 3,
   "metadata": {},
   "outputs": [
    {
     "data": {
      "text/html": [
       "<div>\n",
       "<style scoped>\n",
       "    .dataframe tbody tr th:only-of-type {\n",
       "        vertical-align: middle;\n",
       "    }\n",
       "\n",
       "    .dataframe tbody tr th {\n",
       "        vertical-align: top;\n",
       "    }\n",
       "\n",
       "    .dataframe thead th {\n",
       "        text-align: right;\n",
       "    }\n",
       "</style>\n",
       "<table border=\"1\" class=\"dataframe\">\n",
       "  <thead>\n",
       "    <tr style=\"text-align: right;\">\n",
       "      <th></th>\n",
       "      <th>Visitor</th>\n",
       "      <th>AVG_Trans</th>\n",
       "      <th>Indicator</th>\n",
       "    </tr>\n",
       "  </thead>\n",
       "  <tbody>\n",
       "    <tr>\n",
       "      <th>0</th>\n",
       "      <td>Aaron</td>\n",
       "      <td>310.0</td>\n",
       "      <td>1</td>\n",
       "    </tr>\n",
       "    <tr>\n",
       "      <th>1</th>\n",
       "      <td>Amber</td>\n",
       "      <td>120.0</td>\n",
       "      <td>1</td>\n",
       "    </tr>\n",
       "    <tr>\n",
       "      <th>2</th>\n",
       "      <td>Adol</td>\n",
       "      <td>120.0</td>\n",
       "      <td>1</td>\n",
       "    </tr>\n",
       "    <tr>\n",
       "      <th>3</th>\n",
       "      <td>Ashley</td>\n",
       "      <td>120.0</td>\n",
       "      <td>1</td>\n",
       "    </tr>\n",
       "    <tr>\n",
       "      <th>4</th>\n",
       "      <td>Aldona</td>\n",
       "      <td>120.0</td>\n",
       "      <td>1</td>\n",
       "    </tr>\n",
       "    <tr>\n",
       "      <th>5</th>\n",
       "      <td>Ann</td>\n",
       "      <td>120.0</td>\n",
       "      <td>1</td>\n",
       "    </tr>\n",
       "    <tr>\n",
       "      <th>6</th>\n",
       "      <td>Archit</td>\n",
       "      <td>60.0</td>\n",
       "      <td>1</td>\n",
       "    </tr>\n",
       "    <tr>\n",
       "      <th>7</th>\n",
       "      <td>Aster</td>\n",
       "      <td>20.0</td>\n",
       "      <td>0</td>\n",
       "    </tr>\n",
       "    <tr>\n",
       "      <th>8</th>\n",
       "      <td>Ash</td>\n",
       "      <td>20.0</td>\n",
       "      <td>0</td>\n",
       "    </tr>\n",
       "    <tr>\n",
       "      <th>9</th>\n",
       "      <td>Andy</td>\n",
       "      <td>20.0</td>\n",
       "      <td>0</td>\n",
       "    </tr>\n",
       "  </tbody>\n",
       "</table>\n",
       "</div>"
      ],
      "text/plain": [
       "  Visitor  AVG_Trans Indicator\n",
       "0   Aaron      310.0         1\n",
       "1   Amber      120.0         1\n",
       "2    Adol      120.0         1\n",
       "3  Ashley      120.0         1\n",
       "4  Aldona      120.0         1\n",
       "5     Ann      120.0         1\n",
       "6  Archit       60.0         1\n",
       "7   Aster       20.0         0\n",
       "8     Ash       20.0         0\n",
       "9    Andy       20.0         0"
      ]
     },
     "execution_count": 3,
     "metadata": {},
     "output_type": "execute_result"
    }
   ],
   "source": [
    "df_query_2"
   ]
  },
  {
   "cell_type": "code",
   "execution_count": 2,
   "metadata": {},
   "outputs": [
    {
     "name": "stdout",
     "output_type": "stream",
     "text": [
      "[NbConvertApp] Converting notebook Digitas1.ipynb to html\n",
      "[NbConvertApp] Writing 502778 bytes to Digitas1.html\n"
     ]
    }
   ],
   "source": [
    "!jupyter nbconvert Digitas1.ipynb --to html"
   ]
  },
  {
   "cell_type": "code",
   "execution_count": null,
   "metadata": {},
   "outputs": [],
   "source": []
  }
 ],
 "metadata": {
  "kernelspec": {
   "display_name": "Python 3",
   "language": "python",
   "name": "python3"
  },
  "language_info": {
   "codemirror_mode": {
    "name": "ipython",
    "version": 2
   },
   "file_extension": ".py",
   "mimetype": "text/x-python",
   "name": "python",
   "nbconvert_exporter": "python",
   "pygments_lexer": "ipython2",
   "version": "2.7.15"
  }
 },
 "nbformat": 4,
 "nbformat_minor": 2
}
